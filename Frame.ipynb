{
 "cells": [
  {
   "cell_type": "code",
   "execution_count": 7,
   "metadata": {},
   "outputs": [
    {
     "name": "stdout",
     "output_type": "stream",
     "text": [
      "Creating...frame0.jpg\n",
      "Creating...frame1.jpg\n",
      "Creating...frame2.jpg\n",
      "Creating...frame3.jpg\n",
      "Creating...frame4.jpg\n",
      "Creating...frame5.jpg\n",
      "Creating...frame6.jpg\n",
      "Creating...frame7.jpg\n",
      "Creating...frame8.jpg\n",
      "Creating...frame9.jpg\n",
      "Creating...frame10.jpg\n",
      "Creating...frame11.jpg\n",
      "Creating...frame12.jpg\n",
      "Creating...frame13.jpg\n",
      "Creating...frame14.jpg\n",
      "Creating...frame15.jpg\n",
      "Creating...frame16.jpg\n",
      "Creating...frame17.jpg\n",
      "Creating...frame18.jpg\n",
      "Creating...frame19.jpg\n",
      "Creating...frame20.jpg\n",
      "Creating...frame21.jpg\n",
      "Creating...frame22.jpg\n",
      "Creating...frame23.jpg\n",
      "Creating...frame24.jpg\n",
      "Creating...frame25.jpg\n",
      "Creating...frame26.jpg\n",
      "Creating...frame27.jpg\n",
      "Creating...frame28.jpg\n",
      "Creating...frame29.jpg\n",
      "Creating...frame30.jpg\n",
      "Creating...frame31.jpg\n",
      "Creating...frame32.jpg\n",
      "Creating...frame33.jpg\n",
      "Creating...frame34.jpg\n",
      "Creating...frame35.jpg\n",
      "Creating...frame36.jpg\n",
      "Creating...frame37.jpg\n",
      "Creating...frame38.jpg\n",
      "Creating...frame39.jpg\n",
      "Creating...frame40.jpg\n",
      "Creating...frame41.jpg\n",
      "Creating...frame42.jpg\n",
      "Creating...frame43.jpg\n",
      "Creating...frame44.jpg\n",
      "Creating...frame45.jpg\n",
      "Creating...frame46.jpg\n",
      "Creating...frame47.jpg\n",
      "Creating...frame48.jpg\n",
      "Creating...frame49.jpg\n",
      "Creating...frame50.jpg\n"
     ]
    }
   ],
   "source": [
    "import cv2\n",
    "import numpy as np\n",
    "\n",
    "cap = cv2.VideoCapture(0)\n",
    " \n",
    "if (cap.isOpened() == False):\n",
    "\tprint(\"UNABLE TO OPEN CAMERA FEED.\")\n",
    " \t\t\t \n",
    "currentFrame = 0\n",
    "while(currentFrame<=50):\n",
    "\n",
    "    ret, frame = cap.read()\n",
    "    gray = cv2.cvtColor(frame, cv2.COLOR_BGR2GRAY)\n",
    "    name = \"frame%d.jpg\"%currentFrame\n",
    "    print ('Creating...' + name)\n",
    "    cv2.imwrite(r'/home/shayan/Downloads/Frames/%s' %name, frame)\n",
    "    currentFrame += 1\n",
    "\n",
    "    cv2.imshow('frame',gray)\n",
    "    if cv2.waitKey(10) != -1:\n",
    "        break\n",
    " \n",
    "\n",
    "cap.release()\n",
    "cv2.destroyAllWindows()"
   ]
  },
  {
   "cell_type": "code",
   "execution_count": null,
   "metadata": {},
   "outputs": [],
   "source": []
  }
 ],
 "metadata": {
  "kernelspec": {
   "display_name": "Python 2",
   "language": "python",
   "name": "python2"
  },
  "language_info": {
   "codemirror_mode": {
    "name": "ipython",
    "version": 2
   },
   "file_extension": ".py",
   "mimetype": "text/x-python",
   "name": "python",
   "nbconvert_exporter": "python",
   "pygments_lexer": "ipython2",
   "version": "2.7.12"
  }
 },
 "nbformat": 4,
 "nbformat_minor": 2
}
